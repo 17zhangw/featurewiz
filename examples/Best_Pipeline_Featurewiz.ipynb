{
 "cells": [
  {
   "cell_type": "code",
   "execution_count": 1,
   "id": "2b7bc8ab",
   "metadata": {},
   "outputs": [],
   "source": [
    "import numpy as np\n",
    "import pandas as pd\n",
    "from sklearn.impute import SimpleImputer\n",
    "from sklearn.preprocessing import OneHotEncoder\n",
    "from sklearn.feature_extraction.text import CountVectorizer\n",
    "from sklearn.linear_model import LogisticRegression\n",
    "from sklearn.compose import make_column_transformer\n",
    "from sklearn.pipeline import make_pipeline\n",
    "from sklearn.pipeline import Pipeline\n",
    "import pdb\n",
    "from collections import defaultdict\n",
    "### These imports give fit_transform method for free ###\n",
    "from sklearn.base import BaseEstimator, TransformerMixin \n",
    "from sklearn.preprocessing import FunctionTransformer\n",
    "from sklearn.preprocessing import MaxAbsScaler, StandardScaler\n",
    "from sklearn.preprocessing import LabelEncoder, LabelBinarizer\n",
    "import pdb\n",
    "from collections import defaultdict\n",
    "import pickle"
   ]
  },
  {
   "cell_type": "code",
   "execution_count": 2,
   "id": "93751256",
   "metadata": {},
   "outputs": [],
   "source": [
    "# import the scikit-learn compatible transformer pipeline ##\n",
    "#from simformer import SimFormer"
   ]
  },
  {
   "cell_type": "code",
   "execution_count": 3,
   "id": "2da8e86f",
   "metadata": {},
   "outputs": [],
   "source": [
    "datapath = '../Ram/Data_Sets/'\n",
    "filename = 'heart.csv'\n",
    "sep = ','"
   ]
  },
  {
   "cell_type": "code",
   "execution_count": 5,
   "id": "313aacfb",
   "metadata": {},
   "outputs": [
    {
     "name": "stdout",
     "output_type": "stream",
     "text": [
      "(303, 14)\n"
     ]
    },
    {
     "data": {
      "text/html": [
       "<div>\n",
       "<style scoped>\n",
       "    .dataframe tbody tr th:only-of-type {\n",
       "        vertical-align: middle;\n",
       "    }\n",
       "\n",
       "    .dataframe tbody tr th {\n",
       "        vertical-align: top;\n",
       "    }\n",
       "\n",
       "    .dataframe thead th {\n",
       "        text-align: right;\n",
       "    }\n",
       "</style>\n",
       "<table border=\"1\" class=\"dataframe\">\n",
       "  <thead>\n",
       "    <tr style=\"text-align: right;\">\n",
       "      <th></th>\n",
       "      <th>age</th>\n",
       "      <th>sex</th>\n",
       "      <th>cp</th>\n",
       "      <th>trestbps</th>\n",
       "      <th>chol</th>\n",
       "      <th>fbs</th>\n",
       "      <th>restecg</th>\n",
       "      <th>thalach</th>\n",
       "      <th>exang</th>\n",
       "      <th>oldpeak</th>\n",
       "      <th>slope</th>\n",
       "      <th>ca</th>\n",
       "      <th>thal</th>\n",
       "      <th>target</th>\n",
       "    </tr>\n",
       "  </thead>\n",
       "  <tbody>\n",
       "    <tr>\n",
       "      <th>0</th>\n",
       "      <td>63</td>\n",
       "      <td>1</td>\n",
       "      <td>3</td>\n",
       "      <td>145</td>\n",
       "      <td>233</td>\n",
       "      <td>1</td>\n",
       "      <td>0</td>\n",
       "      <td>150</td>\n",
       "      <td>0</td>\n",
       "      <td>2.3</td>\n",
       "      <td>0</td>\n",
       "      <td>0</td>\n",
       "      <td>1</td>\n",
       "      <td>1</td>\n",
       "    </tr>\n",
       "    <tr>\n",
       "      <th>1</th>\n",
       "      <td>37</td>\n",
       "      <td>1</td>\n",
       "      <td>2</td>\n",
       "      <td>130</td>\n",
       "      <td>250</td>\n",
       "      <td>0</td>\n",
       "      <td>1</td>\n",
       "      <td>187</td>\n",
       "      <td>0</td>\n",
       "      <td>3.5</td>\n",
       "      <td>0</td>\n",
       "      <td>0</td>\n",
       "      <td>2</td>\n",
       "      <td>1</td>\n",
       "    </tr>\n",
       "    <tr>\n",
       "      <th>2</th>\n",
       "      <td>41</td>\n",
       "      <td>0</td>\n",
       "      <td>1</td>\n",
       "      <td>130</td>\n",
       "      <td>204</td>\n",
       "      <td>0</td>\n",
       "      <td>0</td>\n",
       "      <td>172</td>\n",
       "      <td>0</td>\n",
       "      <td>1.4</td>\n",
       "      <td>2</td>\n",
       "      <td>0</td>\n",
       "      <td>2</td>\n",
       "      <td>1</td>\n",
       "    </tr>\n",
       "    <tr>\n",
       "      <th>3</th>\n",
       "      <td>56</td>\n",
       "      <td>1</td>\n",
       "      <td>1</td>\n",
       "      <td>120</td>\n",
       "      <td>236</td>\n",
       "      <td>0</td>\n",
       "      <td>1</td>\n",
       "      <td>178</td>\n",
       "      <td>0</td>\n",
       "      <td>0.8</td>\n",
       "      <td>2</td>\n",
       "      <td>0</td>\n",
       "      <td>2</td>\n",
       "      <td>1</td>\n",
       "    </tr>\n",
       "    <tr>\n",
       "      <th>4</th>\n",
       "      <td>57</td>\n",
       "      <td>0</td>\n",
       "      <td>0</td>\n",
       "      <td>120</td>\n",
       "      <td>354</td>\n",
       "      <td>0</td>\n",
       "      <td>1</td>\n",
       "      <td>163</td>\n",
       "      <td>1</td>\n",
       "      <td>0.6</td>\n",
       "      <td>2</td>\n",
       "      <td>0</td>\n",
       "      <td>2</td>\n",
       "      <td>1</td>\n",
       "    </tr>\n",
       "  </tbody>\n",
       "</table>\n",
       "</div>"
      ],
      "text/plain": [
       "   age  sex  cp  trestbps  chol  fbs  restecg  thalach  exang  oldpeak  slope  \\\n",
       "0   63    1   3       145   233    1        0      150      0      2.3      0   \n",
       "1   37    1   2       130   250    0        1      187      0      3.5      0   \n",
       "2   41    0   1       130   204    0        0      172      0      1.4      2   \n",
       "3   56    1   1       120   236    0        1      178      0      0.8      2   \n",
       "4   57    0   0       120   354    0        1      163      1      0.6      2   \n",
       "\n",
       "   ca  thal  target  \n",
       "0   0     1       1  \n",
       "1   0     2       1  \n",
       "2   0     2       1  \n",
       "3   0     2       1  \n",
       "4   0     2       1  "
      ]
     },
     "execution_count": 5,
     "metadata": {},
     "output_type": "execute_result"
    }
   ],
   "source": [
    "###### train data set for the model #####\n",
    "df = pd.read_csv(datapath+filename,sep=sep)\n",
    "print(df.shape)\n",
    "df.head()"
   ]
  },
  {
   "cell_type": "code",
   "execution_count": 6,
   "id": "33fa35ae",
   "metadata": {},
   "outputs": [
    {
     "name": "stdout",
     "output_type": "stream",
     "text": [
      "Imported DASK version = 0.0.91. nrows=None uses all rows. Set nrows=1000 to randomly sample fewer rows.\n",
      "output = featurewiz(dataname, target, corr_limit=0.70, verbose=2, sep=',', \n",
      "\t\theader=0, test_data='',feature_engg='', category_encoders='',\n",
      "\t\tdask_xgboost_flag=False, nrows=None)\n",
      "Create new features via 'feature_engg' flag : ['interactions','groupby','target']\n",
      "                                \n"
     ]
    }
   ],
   "source": [
    "from featurewiz import FeatureWiz"
   ]
  },
  {
   "cell_type": "code",
   "execution_count": 7,
   "id": "f76f07d9",
   "metadata": {},
   "outputs": [],
   "source": [
    "### Once the SimFormer pipeline is built, it can work with Featurewiz ##\n",
    "#smp = SimFormer(with_model=False, date_to_string=False)\n",
    "FW = FeatureWiz()"
   ]
  },
  {
   "cell_type": "code",
   "execution_count": 9,
   "id": "4de73af3",
   "metadata": {},
   "outputs": [],
   "source": [
    "target = 'target'\n",
    "modeltype = 'Classification'"
   ]
  },
  {
   "cell_type": "code",
   "execution_count": 10,
   "id": "5c4f4c9d",
   "metadata": {},
   "outputs": [
    {
     "data": {
      "text/plain": [
       "age           int64\n",
       "sex           int64\n",
       "cp            int64\n",
       "trestbps      int64\n",
       "chol          int64\n",
       "fbs           int64\n",
       "restecg       int64\n",
       "thalach       int64\n",
       "exang         int64\n",
       "oldpeak     float64\n",
       "slope         int64\n",
       "ca            int64\n",
       "thal          int64\n",
       "target        int64\n",
       "dtype: object"
      ]
     },
     "execution_count": 10,
     "metadata": {},
     "output_type": "execute_result"
    }
   ],
   "source": [
    "if isinstance(target, str):\n",
    "    cols = [x for x in list(df) if x not in [target]]\n",
    "else:\n",
    "    cols = [x for x in list(df) if x not in target]\n",
    "X = df[cols]\n",
    "y = df[target]\n",
    "df.dtypes"
   ]
  },
  {
   "cell_type": "code",
   "execution_count": 11,
   "id": "348cd500",
   "metadata": {},
   "outputs": [
    {
     "name": "stdout",
     "output_type": "stream",
     "text": [
      "0\n"
     ]
    },
    {
     "data": {
      "text/plain": [
       "((303, 13), (303,))"
      ]
     },
     "execution_count": 11,
     "metadata": {},
     "output_type": "execute_result"
    }
   ],
   "source": [
    "###  find the y values that have low samples ####\n",
    "if modeltype != 'Regression':\n",
    "    low_counts = y.value_counts()[(y.value_counts()<=1).values].index\n",
    "    print(len(low_counts))\n",
    "    ## You need to remove those rows that have just one sample ##\n",
    "    X = X[~(y.isin(low_counts))]\n",
    "    y = y[~(y.isin(low_counts))]\n",
    "X.shape, y.shape"
   ]
  },
  {
   "cell_type": "code",
   "execution_count": 12,
   "id": "889492e3",
   "metadata": {},
   "outputs": [
    {
     "name": "stdout",
     "output_type": "stream",
     "text": [
      "(272, 13) (31, 13)\n"
     ]
    }
   ],
   "source": [
    "from sklearn.model_selection import train_test_split\n",
    "if modeltype == 'Regression':\n",
    "    X_train, X_test, y_train, y_test = train_test_split(X,y,test_size=0.1, random_state=999)\n",
    "else:\n",
    "    X_train, X_test, y_train, y_test = train_test_split(X,y,test_size=0.1,stratify=y, random_state=999)\n",
    "print(X_train.shape, X_test.shape)"
   ]
  },
  {
   "cell_type": "code",
   "execution_count": 13,
   "id": "a02f4334",
   "metadata": {
    "scrolled": false
   },
   "outputs": [],
   "source": [
    "### This returns a transformer + feature selection pipeline once you fit it ###\n",
    "#mlp = smp.fit(X_train, y_train)\n",
    "#FW.fit(X_train, y_train)"
   ]
  },
  {
   "cell_type": "code",
   "execution_count": 14,
   "id": "be211dfa",
   "metadata": {},
   "outputs": [],
   "source": [
    "from sklearn.pipeline import make_pipeline\n",
    "from sklearn.pipeline import Pipeline\n",
    "from sklearn.base import BaseEstimator, TransformerMixin \n",
    "from sklearn.preprocessing import FunctionTransformer\n",
    "from sklearn.preprocessing import MaxAbsScaler, StandardScaler\n",
    "from sklearn.impute import SimpleImputer\n",
    "from sklearn.preprocessing import OneHotEncoder\n",
    "from sklearn.model_selection import RandomizedSearchCV\n",
    "from sklearn.feature_extraction.text import CountVectorizer, TfidfVectorizer\n",
    "from sklearn.linear_model import LogisticRegression\n",
    "from sklearn.ensemble import RandomForestClassifier, RandomForestRegressor\n",
    "pipe = Pipeline([('fw', FeatureWiz()),('logistic', LogisticRegression())])\n",
    "param_grid = {\"logistic__C\": np.logspace(-4, 4, 4)}\n",
    "search = RandomizedSearchCV(estimator=pipe,\n",
    "                            param_distributions=param_grid,\n",
    "                            scoring='accuracy',\n",
    "                            n_iter=3,\n",
    "                            n_jobs=-1,\n",
    "                            random_state=99,\n",
    "                            cv=3,\n",
    "                            error_score=1)"
   ]
  },
  {
   "cell_type": "code",
   "execution_count": 15,
   "id": "f4715800",
   "metadata": {
    "scrolled": false
   },
   "outputs": [
    {
     "name": "stdout",
     "output_type": "stream",
     "text": [
      "############################################################################################\n",
      "############       F A S T   F E A T U R E  E N G G    A N D    S E L E C T I O N ! ########\n",
      "# Be judicious with featurewiz. Don't use it to create too many un-interpretable features! #\n",
      "############################################################################################\n",
      "Skipping feature engineering since no feature_engg input...\n",
      "Skipping category encoding since no category encoders specified in input...\n",
      "Loading train data...\n",
      "    Shape of your Data Set loaded: (272, 14)\n",
      "    Caution: We will try to reduce the memory usage of dataframe from 0.03 MB\n",
      "    Memory usage after optimization is: 0.01 MB\n",
      "        decreased by 78.3%\n",
      "     Loaded. Shape = (272, 14)\n",
      "No test data filename given...\n",
      "############## C L A S S I F Y I N G  V A R I A B L E S  ####################\n",
      "Classifying variables in data set...\n",
      "    13 Predictors classified...\n",
      "        No variables removed since no ID or low-information variables found in data set\n",
      "No GPU active on this device\n",
      "    Tuning XGBoost using CPU hyper-parameters. This will take time...\n",
      "Removing 0 columns from further processing since ID or low information variables\n",
      "    columns removed: []\n",
      "    After removing redundant variables from further processing, features left = 13\n",
      "#### Single_Label Binary_Classification Feature Selection Started ####\n",
      "Searching for highly correlated variables from 13 variables using SULOV method\n",
      "#####  SULOV : Searching for Uncorrelated List Of Variables (takes time...) ############\n",
      "    No highly correlated variables in data set to remove. All selected...\n",
      "Time taken for SULOV method = 0 seconds\n",
      "    Adding 0 categorical variables to reduced numeric variables  of 13\n",
      "############## F E A T U R E   S E L E C T I O N  ####################\n",
      "    using regular XGBoost\n",
      "Train and Test loaded into Dask dataframes successfully after feature_engg completed\n",
      "Current number of predictors = 13 \n",
      "XGBoost version: 1.5.1\n",
      "Number of booster rounds = 100\n",
      "        using 13 variables...\n",
      "            Time taken for regular XGBoost feature selection = 0 seconds\n",
      "        using 10 variables...\n",
      "            Time taken for regular XGBoost feature selection = 0 seconds\n",
      "        using 7 variables...\n",
      "            Time taken for regular XGBoost feature selection = 0 seconds\n",
      "        using 4 variables...\n",
      "            Time taken for regular XGBoost feature selection = 1 seconds\n",
      "        using 1 variables...\n",
      "            Time taken for regular XGBoost feature selection = 1 seconds\n"
     ]
    },
    {
     "data": {
      "image/png": "[encoded data removed]",
      "text/plain": [
       "<Figure size 720x1080 with 6 Axes>"
      ]
     },
     "metadata": {
      "needs_background": "light"
     },
     "output_type": "display_data"
    },
    {
     "name": "stdout",
     "output_type": "stream",
     "text": [
      "            Total time taken for XGBoost feature selection = 2 seconds\n",
      "    ID variables are always selected so that rows can be identified. But they are not important!\n",
      "Selected 13 important features:\n",
      "['cp', 'thal', 'ca', 'exang', 'slope', 'sex', 'oldpeak', 'age', 'chol', 'thalach', 'trestbps', 'fbs', 'restecg']\n",
      "    Time taken = 2 seconds\n",
      "Returning list of 13 important features and a dataframe.\n",
      "    Time taken to create entire pipeline = 2 second(s)\n"
     ]
    },
    {
     "data": {
      "text/plain": [
       "RandomizedSearchCV(cv=3, error_score=1,\n",
       "                   estimator=Pipeline(steps=[('fw', FeatureWiz()),\n",
       "                                             ('logistic',\n",
       "                                              LogisticRegression())]),\n",
       "                   n_iter=3, n_jobs=-1,\n",
       "                   param_distributions={'logistic__C': array([1.00000000e-04, 4.64158883e-02, 2.15443469e+01, 1.00000000e+04])},\n",
       "                   random_state=99, scoring='accuracy')"
      ]
     },
     "execution_count": 15,
     "metadata": {},
     "output_type": "execute_result"
    }
   ],
   "source": [
    "search.fit(X_train, y_train)"
   ]
  },
  {
   "cell_type": "code",
   "execution_count": 16,
   "id": "32dfc242",
   "metadata": {},
   "outputs": [
    {
     "data": {
      "text/plain": [
       "(31,)"
      ]
     },
     "execution_count": 16,
     "metadata": {},
     "output_type": "execute_result"
    }
   ],
   "source": [
    "y_pred = search.predict(X_test)\n",
    "y_pred.shape"
   ]
  },
  {
   "cell_type": "code",
   "execution_count": 17,
   "id": "c2bbb9d6",
   "metadata": {},
   "outputs": [
    {
     "name": "stdout",
     "output_type": "stream",
     "text": [
      "0.8697478991596639\n"
     ]
    }
   ],
   "source": [
    "from sklearn.metrics import balanced_accuracy_score, mean_squared_error\n",
    "if modeltype == 'Regression':\n",
    "    print(np.sqrt(mean_squared_error(y_test, y_pred)))\n",
    "else:\n",
    "    print(balanced_accuracy_score(y_test, y_pred))"
   ]
  },
  {
   "cell_type": "code",
   "execution_count": 19,
   "id": "87fd10f4",
   "metadata": {},
   "outputs": [
    {
     "data": {
      "text/html": [
       "<style>#sk-4e5258b8-f539-415c-8dd6-a149e382a77f {color: black;background-color: white;}#sk-4e5258b8-f539-415c-8dd6-a149e382a77f pre{padding: 0;}#sk-4e5258b8-f539-415c-8dd6-a149e382a77f div.sk-toggleable {background-color: white;}#sk-4e5258b8-f539-415c-8dd6-a149e382a77f label.sk-toggleable__label {cursor: pointer;display: block;width: 100%;margin-bottom: 0;padding: 0.3em;box-sizing: border-box;text-align: center;}#sk-4e5258b8-f539-415c-8dd6-a149e382a77f div.sk-toggleable__content {max-height: 0;max-width: 0;overflow: hidden;text-align: left;background-color: #f0f8ff;}#sk-4e5258b8-f539-415c-8dd6-a149e382a77f div.sk-toggleable__content pre {margin: 0.2em;color: black;border-radius: 0.25em;background-color: #f0f8ff;}#sk-4e5258b8-f539-415c-8dd6-a149e382a77f input.sk-toggleable__control:checked~div.sk-toggleable__content {max-height: 200px;max-width: 100%;overflow: auto;}#sk-4e5258b8-f539-415c-8dd6-a149e382a77f div.sk-estimator input.sk-toggleable__control:checked~label.sk-toggleable__label {background-color: #d4ebff;}#sk-4e5258b8-f539-415c-8dd6-a149e382a77f div.sk-label input.sk-toggleable__control:checked~label.sk-toggleable__label {background-color: #d4ebff;}#sk-4e5258b8-f539-415c-8dd6-a149e382a77f input.sk-hidden--visually {border: 0;clip: rect(1px 1px 1px 1px);clip: rect(1px, 1px, 1px, 1px);height: 1px;margin: -1px;overflow: hidden;padding: 0;position: absolute;width: 1px;}#sk-4e5258b8-f539-415c-8dd6-a149e382a77f div.sk-estimator {font-family: monospace;background-color: #f0f8ff;border: 1px dotted black;border-radius: 0.25em;box-sizing: border-box;margin-bottom: 0.5em;}#sk-4e5258b8-f539-415c-8dd6-a149e382a77f div.sk-estimator:hover {background-color: #d4ebff;}#sk-4e5258b8-f539-415c-8dd6-a149e382a77f div.sk-parallel-item::after {content: \"\";width: 100%;border-bottom: 1px solid gray;flex-grow: 1;}#sk-4e5258b8-f539-415c-8dd6-a149e382a77f div.sk-label:hover label.sk-toggleable__label {background-color: #d4ebff;}#sk-4e5258b8-f539-415c-8dd6-a149e382a77f div.sk-serial::before {content: \"\";position: absolute;border-left: 1px solid gray;box-sizing: border-box;top: 2em;bottom: 0;left: 50%;}#sk-4e5258b8-f539-415c-8dd6-a149e382a77f div.sk-serial {display: flex;flex-direction: column;align-items: center;background-color: white;padding-right: 0.2em;padding-left: 0.2em;}#sk-4e5258b8-f539-415c-8dd6-a149e382a77f div.sk-item {z-index: 1;}#sk-4e5258b8-f539-415c-8dd6-a149e382a77f div.sk-parallel {display: flex;align-items: stretch;justify-content: center;background-color: white;}#sk-4e5258b8-f539-415c-8dd6-a149e382a77f div.sk-parallel::before {content: \"\";position: absolute;border-left: 1px solid gray;box-sizing: border-box;top: 2em;bottom: 0;left: 50%;}#sk-4e5258b8-f539-415c-8dd6-a149e382a77f div.sk-parallel-item {display: flex;flex-direction: column;position: relative;background-color: white;}#sk-4e5258b8-f539-415c-8dd6-a149e382a77f div.sk-parallel-item:first-child::after {align-self: flex-end;width: 50%;}#sk-4e5258b8-f539-415c-8dd6-a149e382a77f div.sk-parallel-item:last-child::after {align-self: flex-start;width: 50%;}#sk-4e5258b8-f539-415c-8dd6-a149e382a77f div.sk-parallel-item:only-child::after {width: 0;}#sk-4e5258b8-f539-415c-8dd6-a149e382a77f div.sk-dashed-wrapped {border: 1px dashed gray;margin: 0 0.4em 0.5em 0.4em;box-sizing: border-box;padding-bottom: 0.4em;background-color: white;position: relative;}#sk-4e5258b8-f539-415c-8dd6-a149e382a77f div.sk-label label {font-family: monospace;font-weight: bold;background-color: white;display: inline-block;line-height: 1.2em;}#sk-4e5258b8-f539-415c-8dd6-a149e382a77f div.sk-label-container {position: relative;z-index: 2;text-align: center;}#sk-4e5258b8-f539-415c-8dd6-a149e382a77f div.sk-container {display: inline-block;position: relative;}</style><div id=\"sk-4e5258b8-f539-415c-8dd6-a149e382a77f\" class\"sk-top-container\"><div class=\"sk-container\"><div class=\"sk-item sk-dashed-wrapped\"><div class=\"sk-label-container\"><div class=\"sk-label sk-toggleable\"><input class=\"sk-toggleable__control sk-hidden--visually\" id=\"25ef088c-e1cf-40d4-9db2-b6675e66afba\" type=\"checkbox\" ><label class=\"sk-toggleable__label\" for=\"25ef088c-e1cf-40d4-9db2-b6675e66afba\">Pipeline</label><div class=\"sk-toggleable__content\"><pre>Pipeline(steps=[('fw', FeatureWiz()), ('logistic', LogisticRegression())])</pre></div></div></div><div class=\"sk-serial\"><div class=\"sk-item\"><div class=\"sk-estimator sk-toggleable\"><input class=\"sk-toggleable__control sk-hidden--visually\" id=\"0f9123df-5841-4965-9f91-55b2c5404919\" type=\"checkbox\" ><label class=\"sk-toggleable__label\" for=\"0f9123df-5841-4965-9f91-55b2c5404919\">FeatureWiz</label><div class=\"sk-toggleable__content\"><pre>FeatureWiz()</pre></div></div></div><div class=\"sk-item\"><div class=\"sk-estimator sk-toggleable\"><input class=\"sk-toggleable__control sk-hidden--visually\" id=\"364f8e20-f0d5-42af-852d-659c457ed690\" type=\"checkbox\" ><label class=\"sk-toggleable__label\" for=\"364f8e20-f0d5-42af-852d-659c457ed690\">LogisticRegression</label><div class=\"sk-toggleable__content\"><pre>LogisticRegression()</pre></div></div></div></div></div></div></div>"
      ],
      "text/plain": [
       "Pipeline(steps=[('fw', FeatureWiz()), ('logistic', LogisticRegression())])"
      ]
     },
     "execution_count": 19,
     "metadata": {},
     "output_type": "execute_result"
    }
   ],
   "source": [
    "from sklearn import set_config\n",
    "#### You can display your pipeline in a nice diagram if it is a Jupyter Notebook ##\n",
    "set_config(display=\"diagram\")\n",
    "pipe"
   ]
  },
  {
   "cell_type": "code",
   "execution_count": null,
   "id": "74f94b01",
   "metadata": {},
   "outputs": [],
   "source": []
  },
  {
   "cell_type": "code",
   "execution_count": null,
   "id": "74bfb7c1",
   "metadata": {},
   "outputs": [],
   "source": []
  }
 ],
 "metadata": {
  "kernelspec": {
   "display_name": "Python 3",
   "language": "python",
   "name": "python3"
  },
  "language_info": {
   "codemirror_mode": {
    "name": "ipython",
    "version": 3
   },
   "file_extension": ".py",
   "mimetype": "text/x-python",
   "name": "python",
   "nbconvert_exporter": "python",
   "pygments_lexer": "ipython3",
   "version": "3.8.5"
  }
 },
 "nbformat": 4,
 "nbformat_minor": 5
}
